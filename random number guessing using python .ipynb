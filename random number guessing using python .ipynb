{
 "cells": [
  {
   "cell_type": "code",
   "execution_count": 14,
   "id": "682900e1",
   "metadata": {},
   "outputs": [
    {
     "name": "stdout",
     "output_type": "stream",
     "text": [
      "Enter Your Name ram\n",
      "Hello ram , Welcome in Number Gussing Game , please select the number between 1 and 10\n",
      "Enter the number 8\n",
      "your guess is higher then actual\n",
      "You guess the wrong number 2 tries left, Try again\n",
      "Enter the number 6\n",
      "You guess the wrong number 1 tries left, Try again\n",
      "Enter the number 4\n",
      "You guess the correct number 4\n",
      "You won in 3 Attempt\n"
     ]
    }
   ],
   "source": [
    "import random #import random function\n",
    "number= random.randint(1,10) # use random and randint function select the number range from 1 to 10\n",
    "tries=1\n",
    "pname=str(input('Enter Your Name '))\n",
    "print('Hello'+' ' + pname +' '+ ', Welcome in Number Gussing Game , please select the number between 1 and 10')\n",
    "Gnumber= int(input('Enter the number '))\n",
    "\n",
    "if (Gnumber>number):\n",
    "            print ('your guess is higher then actual')\n",
    "elif (Gnumber==number):\n",
    "            print('You guess the correct actual number')\n",
    "else:\n",
    "            print('Your Guess is lower then actual')\n",
    "\n",
    "#check the condtion and no of tries time, if condition match ask the inputter to try again. \n",
    "\n",
    "while Gnumber!= number and tries<3:  \n",
    "        print ('You guess the wrong number '+ str(3-tries) +' tries left, Try again')\n",
    "        Gnumber= int(input('Enter the number '))\n",
    "        tries+=1\n",
    "        \n",
    "if Gnumber== number: # check guess number with random generate number, if number is same return result. \n",
    "    print('You guess the correct number '+ str(number))\n",
    "    print('You won in ' + str(tries) +' Attempt' )\n",
    "else:\n",
    "    print ('You lost the game, correct guess is '+ str(number))"
   ]
  },
  {
   "cell_type": "code",
   "execution_count": null,
   "id": "023626a2",
   "metadata": {},
   "outputs": [],
   "source": []
  }
 ],
 "metadata": {
  "kernelspec": {
   "display_name": "Python 3",
   "language": "python",
   "name": "python3"
  },
  "language_info": {
   "codemirror_mode": {
    "name": "ipython",
    "version": 3
   },
   "file_extension": ".py",
   "mimetype": "text/x-python",
   "name": "python",
   "nbconvert_exporter": "python",
   "pygments_lexer": "ipython3",
   "version": "3.8.8"
  }
 },
 "nbformat": 4,
 "nbformat_minor": 5
}
